{
 "cells": [
  {
   "cell_type": "markdown",
   "id": "c1814178",
   "metadata": {},
   "source": [
    "# Import packages and data set"
   ]
  },
  {
   "cell_type": "code",
   "execution_count": 2,
   "id": "6608393c",
   "metadata": {},
   "outputs": [],
   "source": [
    "import pandas as pd\n",
    "import numpy as np\n",
    "from matplotlib import pyplot as plt\n",
    "import seaborn as sns \n",
    "import math\n",
    "import sklearn\n",
    "\n",
    "df = pd.read_csv(\"diabetic_data.csv\")"
   ]
  },
  {
   "cell_type": "markdown",
   "id": "db735b57",
   "metadata": {},
   "source": [
    "# Drop columns and duplicates"
   ]
  },
  {
   "cell_type": "code",
   "execution_count": 3,
   "id": "4640a2ef",
   "metadata": {},
   "outputs": [],
   "source": [
    "df.drop('weight', axis = 1, inplace = True)\n",
    "df.drop('payer_code', axis = 1, inplace = True)\n",
    "df.drop('medical_specialty', axis = 1, inplace = True)\n",
    "df.drop('encounter_id', axis = 1, inplace = True)\n",
    "df.drop('race',axis=1,inplace=True)\n",
    "df.drop_duplicates(['patient_nbr'], keep = 'first', inplace = True)\n",
    "\n",
    "df"
   ]
  },
  {
   "cell_type": "markdown",
   "id": "9d828e12",
   "metadata": {},
   "source": [
    "# Create a heat map to start visualizing features that may be import to visualize."
   ]
  },
  {
   "cell_type": "code",
   "execution_count": 4,
   "id": "fc5cf560",
   "metadata": {},
   "outputs": [],
   "source": [
    "#sns.heatmap(df)"
   ]
  },
  {
   "cell_type": "markdown",
   "id": "4e0e2bd6",
   "metadata": {},
   "source": [
    "# For easier access and to also show if data set is imbalanced or balances, I seperated out the different readmissions, Then I found the length to show how much of each I had. I found my data set to be imbalance with almost double more no readmission paitents then readmitted. "
   ]
  },
  {
   "cell_type": "code",
   "execution_count": 7,
   "id": "a93d9800",
   "metadata": {},
   "outputs": [
    {
     "data": {
      "text/plain": [
       "33490"
      ]
     },
     "execution_count": 7,
     "metadata": {},
     "output_type": "execute_result"
    }
   ],
   "source": [
    "no_readmission = df[df.readmitted == 'NO']\n",
    "less_than_thirty = df[df.readmitted == '<30']\n",
    "more_than_thirty = df[df.readmitted == '>30']"
   ]
  },
  {
   "cell_type": "code",
   "execution_count": 8,
   "id": "9db0481e",
   "metadata": {},
   "outputs": [
    {
     "data": {
      "text/plain": [
       "42985"
      ]
     },
     "execution_count": 8,
     "metadata": {},
     "output_type": "execute_result"
    }
   ],
   "source": [
    "len(no_readmission)"
   ]
  },
  {
   "cell_type": "code",
   "execution_count": 9,
   "id": "739725d6",
   "metadata": {},
   "outputs": [
    {
     "data": {
      "text/plain": [
       "6293"
      ]
     },
     "execution_count": 9,
     "metadata": {},
     "output_type": "execute_result"
    }
   ],
   "source": [
    "len(less_than_thirty)"
   ]
  },
  {
   "cell_type": "code",
   "execution_count": 10,
   "id": "4f6353f1",
   "metadata": {},
   "outputs": [
    {
     "data": {
      "text/plain": [
       "22240"
      ]
     },
     "execution_count": 10,
     "metadata": {},
     "output_type": "execute_result"
    }
   ],
   "source": [
    "len(more_than_thirty)"
   ]
  },
  {
   "cell_type": "code",
   "execution_count": 11,
   "id": "8e3d5232",
   "metadata": {},
   "outputs": [
    {
     "data": {
      "text/plain": [
       "28533"
      ]
     },
     "execution_count": 11,
     "metadata": {},
     "output_type": "execute_result"
    }
   ],
   "source": [
    "len(more_than_thirty)+len(less_than_thirty)"
   ]
  },
  {
   "cell_type": "markdown",
   "id": "1a4611c8",
   "metadata": {},
   "source": [
    "# seperate out factors that share similarities or may be grouped together. I did this so visualizing and viewing the data set would be easier than trying to manage the whole thing during this process\n",
    "https://www.diabetes.org/a1c"
   ]
  },
  {
   "cell_type": "code",
   "execution_count": 295,
   "id": "d71fdcc9",
   "metadata": {},
   "outputs": [
    {
     "name": "stdout",
     "output_type": "stream",
     "text": [
      "        patient_nbr A1Cresult max_glu_serum readmitted\n",
      "0           8222157      None          None         NO\n",
      "1          55629189      None          None        >30\n",
      "2          86047875      None          None         NO\n",
      "3          82442376      None          None         NO\n",
      "4          42519267      None          None         NO\n",
      "...             ...       ...           ...        ...\n",
      "101754    183087545        >7          None        >30\n",
      "101755    188574944        >8          None        >30\n",
      "101756    140199494      None          None        >30\n",
      "101758    120975314      None          None         NO\n",
      "101765    175429310      None          None         NO\n",
      "\n",
      "[71518 rows x 4 columns]\n"
     ]
    }
   ],
   "source": [
    "gender = df[['gender','readmitted']]\n",
    "\n",
    "age = df[['age','readmitted']]\n",
    "\n",
    "quality_of_visit = df[['time_in_hospital','num_lab_procedures','num_procedures','num_medications',\n",
    "                    'discharge_disposition_id','number_diagnoses','diabetesMed','readmitted']]\n",
    "A1C = df[['A1Cresult','readmitted']]\n",
    "glucose = df[['max_glu_serum','readmitted']]\n",
    "\n",
    "a1c_glucose_match = df[['A1Cresult','max_glu_serum','readmitted']]\n",
    "#drop the nulls\n",
    "a1c_glucose_match.dropna()\n",
    "print(a1c_glucose_match)\n"
   ]
  },
  {
   "cell_type": "markdown",
   "id": "2bec52e0",
   "metadata": {},
   "source": [
    "# I personally wanted to see if there was a difference between men and women and reamission rates as well as if age played a possible role. While these factors were insignificant any factor that may play a role is important when it comes to someone quality of life. In previous studies, men are more likely to not go to doctors for medical care due to medical care, even in cases of basic health check-ups and labs. This is when medical conditons, such as diabetes, may be caught before a paitent begins to feel the negative impacts. This makes me wonder if this could be connected to readmission as men could be more likely to be admitted when their condition is worse and negative effects begin to take their toll on their overall health. To start reaching out of gender, I then wondered if the paitent was to have more dangerous impacts, such as kidney or heart damage being their reason for admission,  would this possibly lead to readmission at a sooner time as compared to someone who came in during early stages of diabetes."
   ]
  },
  {
   "cell_type": "markdown",
   "id": "932df749",
   "metadata": {},
   "source": [
    "# I chose to view the genders as seperate charts due to imbalance between gender samples"
   ]
  },
  {
   "cell_type": "code",
   "execution_count": 296,
   "id": "f9707fbb",
   "metadata": {
    "scrolled": true
   },
   "outputs": [
    {
     "data": {
      "image/png": "[encoded data removed]",
      "text/plain": [
       "<Figure size 432x288 with 1 Axes>"
      ]
     },
     "metadata": {},
     "output_type": "display_data"
    }
   ],
   "source": [
    "no_readmission_male = no_readmission[no_readmission.gender == 'Male']\n",
    "less_than_thirty_male = less_than_thirty[less_than_thirty.gender == 'Male']\n",
    "more_than_thirty_male = more_than_thirty[more_than_thirty.gender == 'Male']\n",
    "\n",
    "male_readmission = [len(no_readmission_male),len(less_than_thirty_male),len(more_than_thirty_male)]\n",
    "\n",
    "fig1, ax1 = plt.subplots()\n",
    "plt.title('Readmission and Men')\n",
    "ax1.pie(male_readmission, labels=['No Readmission','Less Than 30 Days','More Than 30 Days'], autopct='%1.1f%%', startangle=90)\n",
    "ax1.axis('equal')\n",
    "plt.show()"
   ]
  },
  {
   "cell_type": "code",
   "execution_count": 297,
   "id": "a8b4cdbf",
   "metadata": {},
   "outputs": [
    {
     "data": {
      "image/png": "[encoded data removed]",
      "text/plain": [
       "<Figure size 432x288 with 1 Axes>"
      ]
     },
     "metadata": {},
     "output_type": "display_data"
    }
   ],
   "source": [
    "no_readmission_female = no_readmission[no_readmission.gender == 'Female']\n",
    "less_than_thirty_female = less_than_thirty[less_than_thirty.gender == 'Female']\n",
    "more_than_thirty_female = more_than_thirty[more_than_thirty.gender == 'Female']\n",
    "\n",
    "female_readmission = [len(no_readmission_female),len(less_than_thirty_female),len(more_than_thirty_female)]\n",
    "\n",
    "fig1, ax1 = plt.subplots()\n",
    "plt.title('Readmission and Women')\n",
    "ax1.pie(female_readmission, labels=['No Readmission','Less Than 30 Days','More Than 30 Days'], autopct='%1.1f%%', startangle=90)\n",
    "ax1.axis('equal')\n",
    "plt.show()"
   ]
  },
  {
   "cell_type": "markdown",
   "id": "d2c48d8e",
   "metadata": {},
   "source": [
    "# I did not see much of a readmission difference but even taking in the small difference, the reverse of what I thought was true. More women were to be readmitted them men. \n"
   ]
  },
  {
   "cell_type": "markdown",
   "id": "c419bc71",
   "metadata": {},
   "source": [
    "# Here is where I seperated out age groups to look at age groups. Older paitents are more prone to the effects of illness but younger children are more often diagnosed with Type 1 diabetes that can be harder to maintain while type 2 is more mild. Due to these factors I just wanted to see if there was any difference."
   ]
  },
  {
   "cell_type": "code",
   "execution_count": 298,
   "id": "f57b9395",
   "metadata": {},
   "outputs": [],
   "source": [
    "zero_to_ten = df[df.age == '[0-10)']\n",
    "no_re_zero = no_readmission[no_readmission.age == '[0-10)']\n",
    "less_zero = more_than_thirty[more_than_thirty.age == '[0-10)']\n",
    "more_zero = less_than_thirty[less_than_thirty.age == '[0-10)']\n",
    "\n",
    "ten_to_twenty = df[df.age == '[10-20)']\n",
    "no_re_ten = no_readmission[no_readmission.age == '[10-20)']\n",
    "less_ten = less_than_thirty[less_than_thirty.age == '[10-20)']\n",
    "more_ten = more_than_thirty[more_than_thirty.age == '[10-20)']\n",
    "\n",
    "twenty_to_thirty = df[df.age == '[20-30)']\n",
    "no_re_twenty = no_readmission[no_readmission.age == '[20-30)']\n",
    "less_twenty = less_than_thirty[less_than_thirty.age == '[20-30)']\n",
    "more_twenty = more_than_thirty[more_than_thirty.age == '[20-30)']\n",
    "\n",
    "thirty_to_fourty = df[df.age == '[30-40)']\n",
    "no_re_thirty = no_readmission[no_readmission.age == '[30-40)']\n",
    "less_thirty = less_than_thirty[less_than_thirty.age == '[30-40)']\n",
    "more_thirty = more_than_thirty[more_than_thirty.age == '[30-40)']\n",
    "\n",
    "fourty_to_fifty = df[df.age == '[40-50)']\n",
    "no_re_fourty = no_readmission[no_readmission.age == '[40-50)']\n",
    "less_fourty = less_than_thirty[less_than_thirty.age == '[40-50)']\n",
    "more_fourty = more_than_thirty[more_than_thirty.age == '[40-50)']\n",
    "\n",
    "fifty_to_sixty = df[df.age == '[50-60)']\n",
    "no_re_fifty = no_readmission[no_readmission.age == '[50-60)']\n",
    "less_fifty = less_than_thirty[less_than_thirty.age == '[50-60)']\n",
    "more_fifty = more_than_thirty[more_than_thirty.age == '[50-60)']\n",
    "\n",
    "sixty_to_seventy = df[df.age == '[60-70)']\n",
    "no_re_sixty = no_readmission[no_readmission.age == '[60-70)']\n",
    "less_sixty = less_than_thirty[less_than_thirty.age == '[60-70)']\n",
    "more_sixty= more_than_thirty[more_than_thirty.age == '[60-70)']\n",
    "\n",
    "seventy_to_eighty = df[df.age == '[70-80)']\n",
    "no_re_seventy = no_readmission[no_readmission.age == '[70-80)']\n",
    "less_seventy = less_than_thirty[less_than_thirty.age == '[70-80)']\n",
    "more_seventy = more_than_thirty[more_than_thirty.age == '[70-80)']\n",
    "\n",
    "eighty_to_ninety = df[df.age == '[80-90)']\n",
    "no_re_eighty = no_readmission[no_readmission.age == '[80-90)']\n",
    "less_eighty = less_than_thirty[less_than_thirty.age == '[80-90)']\n",
    "more_eighty = more_than_thirty[more_than_thirty.age == '[80-90)']\n",
    "\n",
    "ninety_to_hundred = df[df.age == '[90-100)']\n",
    "no_re_ninety = no_readmission[no_readmission.age == '[90-100)']\n",
    "less_ninety = less_than_thirty[less_than_thirty.age == '[90-100)']\n",
    "more_ninety = more_than_thirty[more_than_thirty.age == '[90-100)']\n",
    "\n",
    "age_groups = ['0 to 10','10 to 19','20 to 29','30 to 39','40 to 49','50 to 59','60 to 69','70 to 79','80 to 89','90 to 99']\n",
    "age_totals = [zero_to_ten, ten_to_twenty, twenty_to_thirty, thirty_to_fourty, fourty_to_fifty, fifty_to_sixty, \n",
    "             sixty_to_seventy, seventy_to_eighty, eighty_to_ninety, ninety_to_hundred]\n",
    "age_no = [no_re_zero, no_re_ten, no_re_twenty, no_re_thirty,no_re_fourty,no_re_fifty,no_re_sixty, no_re_seventy, no_re_eighty\n",
    "         ,no_re_ninety]\n",
    "age_less = [less_zero,less_ten,less_twenty,less_thirty,less_fourty,less_fifty,less_sixty,less_seventy,less_eighty,less_ninety]\n",
    "age_more = [more_zero,more_ten,more_twenty,more_thirty,more_fourty,more_fifty,more_sixty,more_seventy,more_eighty,more_ninety]\n",
    "\n",
    "\n"
   ]
  },
  {
   "cell_type": "code",
   "execution_count": 300,
   "id": "8af35175",
   "metadata": {},
   "outputs": [
    {
     "data": {
      "image/png": "[encoded data removed]",
      "text/plain": [
       "<Figure size 432x288 with 1 Axes>"
      ]
     },
     "metadata": {},
     "output_type": "display_data"
    }
   ],
   "source": [
    "fig1, ax1 = plt.subplots()\n",
    "plt.title('Readmission In Under 10 Years Old')\n",
    "ax1.pie([len(no_re_zero),len(less_zero),len(more_zero)], labels=['No Readmission','Less Than 30 Days','More Than 30 Days'], autopct='%1.1f%%', startangle=90)\n",
    "ax1.axis('equal')\n",
    "plt.show()"
   ]
  },
  {
   "cell_type": "code",
   "execution_count": 301,
   "id": "82ed7ac9",
   "metadata": {},
   "outputs": [
    {
     "data": {
      "image/png": "[encoded data removed]",
      "text/plain": [
       "<Figure size 432x288 with 1 Axes>"
      ]
     },
     "metadata": {},
     "output_type": "display_data"
    }
   ],
   "source": [
    "fig1, ax1 = plt.subplots()\n",
    "plt.title('Readmission of Ten to Nineteen Year Olds')\n",
    "ax1.pie([len(no_re_ten),len(less_ten),len(more_ten)], labels=['No Readmission','Less Than 30 Days','More Than 30 Days'], autopct='%1.1f%%', startangle=90)\n",
    "ax1.axis('equal')\n",
    "plt.show()"
   ]
  },
  {
   "cell_type": "code",
   "execution_count": 302,
   "id": "ed3c7a07",
   "metadata": {},
   "outputs": [
    {
     "data": {
      "image/png": "[encoded data removed]",
      "text/plain": [
       "<Figure size 432x288 with 1 Axes>"
      ]
     },
     "metadata": {},
     "output_type": "display_data"
    }
   ],
   "source": [
    "fig1, ax1 = plt.subplots()\n",
    "plt.title(\" Readmission and Those In Their 20's\")\n",
    "ax1.pie([len(no_re_twenty),len(less_twenty),len(more_twenty)], labels=['No Readmission','Less Than 30 Days','More Than 30 Days'], autopct='%1.1f%%', startangle=90)\n",
    "ax1.axis('equal')\n",
    "plt.show()"
   ]
  },
  {
   "cell_type": "code",
   "execution_count": 303,
   "id": "340aa65c",
   "metadata": {},
   "outputs": [
    {
     "data": {
      "image/png": "[encoded data removed]",
      "text/plain": [
       "<Figure size 432x288 with 1 Axes>"
      ]
     },
     "metadata": {},
     "output_type": "display_data"
    }
   ],
   "source": [
    "fig1, ax1 = plt.subplots()\n",
    "plt.title('Readmission of 30+ Year Olds')\n",
    "ax1.pie([len(no_re_thirty),len(less_thirty),len(more_thirty)], labels=['No Readmission','Less Than 30 Days','More Than 30 Days'], autopct='%1.1f%%', startangle=90)\n",
    "ax1.axis('equal')\n",
    "plt.show()"
   ]
  },
  {
   "cell_type": "code",
   "execution_count": 304,
   "id": "d1fc803f",
   "metadata": {},
   "outputs": [
    {
     "data": {
      "image/png": "[encoded data removed]",
      "text/plain": [
       "<Figure size 432x288 with 1 Axes>"
      ]
     },
     "metadata": {},
     "output_type": "display_data"
    }
   ],
   "source": [
    "fig1, ax1 = plt.subplots()\n",
    "plt.title('Readmission of 40+ Year Olds')\n",
    "ax1.pie([len(no_re_fourty),len(less_fourty),len(more_fourty)], labels=['No Readmission','Less Than 30 Days','More Than 30 Days'], autopct='%1.1f%%', startangle=90)\n",
    "ax1.axis('equal')\n",
    "plt.show()"
   ]
  },
  {
   "cell_type": "code",
   "execution_count": 305,
   "id": "4be8e3cc",
   "metadata": {},
   "outputs": [
    {
     "data": {
      "image/png": "[encoded data removed]",
      "text/plain": [
       "<Figure size 432x288 with 1 Axes>"
      ]
     },
     "metadata": {},
     "output_type": "display_data"
    }
   ],
   "source": [
    "fig1, ax1 = plt.subplots()\n",
    "plt.title('Readmission of 50+ Year Olds')\n",
    "ax1.pie([len(no_re_fifty),len(less_fifty),len(more_fifty)], labels=['No Readmission','Less Than 30 Days','More Than 30 Days'], autopct='%1.1f%%', startangle=90)\n",
    "ax1.axis('equal')\n",
    "plt.show()"
   ]
  },
  {
   "cell_type": "code",
   "execution_count": 306,
   "id": "4a53d350",
   "metadata": {},
   "outputs": [
    {
     "data": {
      "image/png": "[encoded data removed]",
      "text/plain": [
       "<Figure size 432x288 with 1 Axes>"
      ]
     },
     "metadata": {},
     "output_type": "display_data"
    }
   ],
   "source": [
    "fig1, ax1 = plt.subplots()\n",
    "plt.title('Readmission of 60+ Year Olds')\n",
    "ax1.pie([len(no_re_sixty),len(less_sixty),len(more_sixty)], labels=['No Readmission','Less Than 30 Days','More Than 30 Days'], autopct='%1.1f%%', startangle=90)\n",
    "ax1.axis('equal')\n",
    "plt.show()"
   ]
  },
  {
   "cell_type": "code",
   "execution_count": 307,
   "id": "c12ef2d3",
   "metadata": {},
   "outputs": [
    {
     "data": {
      "image/png": "[encoded data removed]",
      "text/plain": [
       "<Figure size 432x288 with 1 Axes>"
      ]
     },
     "metadata": {},
     "output_type": "display_data"
    }
   ],
   "source": [
    "fig1, ax1 = plt.subplots()\n",
    "plt.title('Readmission of 70+ Year Olds')\n",
    "ax1.pie([len(no_re_seventy),len(less_seventy),len(more_seventy)], labels=['No Readmission','Less Than 30 Days','More Than 30 Days'], autopct='%1.1f%%', startangle=90)\n",
    "ax1.axis('equal')\n",
    "plt.show()"
   ]
  },
  {
   "cell_type": "code",
   "execution_count": 308,
   "id": "db93ee58",
   "metadata": {},
   "outputs": [
    {
     "data": {
      "image/png": "[encoded data removed]",
      "text/plain": [
       "<Figure size 432x288 with 1 Axes>"
      ]
     },
     "metadata": {},
     "output_type": "display_data"
    }
   ],
   "source": [
    "fig1, ax1 = plt.subplots()\n",
    "plt.title('Readmission of 80+ Year Olds')\n",
    "ax1.pie([len(no_re_eighty),len(less_eighty),len(more_eighty)], labels=['No Readmission','Less Than 30 Days','More Than 30 Days'], autopct='%1.1f%%', startangle=90)\n",
    "ax1.axis('equal')\n",
    "plt.show()"
   ]
  },
  {
   "cell_type": "code",
   "execution_count": 309,
   "id": "7098a656",
   "metadata": {},
   "outputs": [
    {
     "data": {
      "image/png": "[encoded data removed]",
      "text/plain": [
       "<Figure size 432x288 with 1 Axes>"
      ]
     },
     "metadata": {},
     "output_type": "display_data"
    }
   ],
   "source": [
    "fig1, ax1 = plt.subplots()\n",
    "plt.title('Readmission of 90+ Year Olds')\n",
    "ax1.pie([len(no_re_ninety),len(less_ninety),len(more_ninety)], labels=['No Readmission','Less Than 30 Days','More Than 30 Days'], autopct='%1.1f%%', startangle=90)\n",
    "ax1.axis('equal')\n",
    "plt.show()"
   ]
  },
  {
   "cell_type": "markdown",
   "id": "38ce97cc",
   "metadata": {},
   "source": [
    "# At the end, younger paitents actually experiance a high no readmission precentage. Along with the, from ages 10+, there wasn't much differentiation in readmission vs no readmission including older paitents. "
   ]
  },
  {
   "cell_type": "code",
   "execution_count": null,
   "id": "c53fd1f5",
   "metadata": {},
   "outputs": [],
   "source": []
  },
  {
   "cell_type": "code",
   "execution_count": null,
   "id": "9cb6ea30",
   "metadata": {},
   "outputs": [],
   "source": []
  },
  {
   "cell_type": "code",
   "execution_count": null,
   "id": "db04aaa9",
   "metadata": {},
   "outputs": [],
   "source": []
  },
  {
   "cell_type": "code",
   "execution_count": null,
   "id": "a8d2596e",
   "metadata": {},
   "outputs": [],
   "source": []
  },
  {
   "cell_type": "code",
   "execution_count": null,
   "id": "b4cfb565",
   "metadata": {},
   "outputs": [],
   "source": []
  },
  {
   "cell_type": "code",
   "execution_count": null,
   "id": "e1b2cd96",
   "metadata": {},
   "outputs": [],
   "source": []
  },
  {
   "cell_type": "code",
   "execution_count": null,
   "id": "f3b75e67",
   "metadata": {},
   "outputs": [],
   "source": []
  },
  {
   "cell_type": "code",
   "execution_count": 319,
   "id": "f5a8b8cf",
   "metadata": {},
   "outputs": [],
   "source": [
    "df.drop('patient_nbr', axis = 1, inplace = True)\n",
    "df.replace('No',0, regex=True,inplace=True)\n",
    "df.replace({'Ch': 1}, regex=True,inplace=True)\n",
    "df.replace({'Up': 2}, regex=True,inplace=True)\n",
    "df.replace({'Steady': 1}, regex=True,inplace=True)\n",
    "df.replace({'Yes': 3 }, regex=True,inplace=True)\n",
    "df.replace({'>200': 4 }, regex=True,inplace=True)\n",
    "df.replace({'>300': 5 }, regex=True,inplace=True)\n",
    "df.replace({'>7': 7 }, regex=True,inplace=True)\n",
    "df.replace({'>8': 8 }, regex=True,inplace=True)\n",
    "df.replace({'Down': 6 }, regex=True,inplace=True)\n"
   ]
  },
  {
   "cell_type": "code",
   "execution_count": 320,
   "id": "739d6800",
   "metadata": {},
   "outputs": [],
   "source": [
    "df.gender.replace('Male',1,inplace=True)\n",
    "df.gender.replace('Female',2,inplace=True)\n",
    "df.gender.replace('Unknown/Invalid',0,inplace=True)"
   ]
  },
  {
   "cell_type": "code",
   "execution_count": 321,
   "id": "d8d5f7fa",
   "metadata": {},
   "outputs": [
    {
     "data": {
      "text/html": [
       "<div>\n",
       "<style scoped>\n",
       "    .dataframe tbody tr th:only-of-type {\n",
       "        vertical-align: middle;\n",
       "    }\n",
       "\n",
       "    .dataframe tbody tr th {\n",
       "        vertical-align: top;\n",
       "    }\n",
       "\n",
       "    .dataframe thead th {\n",
       "        text-align: right;\n",
       "    }\n",
       "</style>\n",
       "<table border=\"1\" class=\"dataframe\">\n",
       "  <thead>\n",
       "    <tr style=\"text-align: right;\">\n",
       "      <th></th>\n",
       "      <th>gender</th>\n",
       "      <th>age</th>\n",
       "      <th>admission_type_id</th>\n",
       "      <th>discharge_disposition_id</th>\n",
       "      <th>admission_source_id</th>\n",
       "      <th>time_in_hospital</th>\n",
       "      <th>num_lab_procedures</th>\n",
       "      <th>num_procedures</th>\n",
       "      <th>num_medications</th>\n",
       "      <th>number_outpatient</th>\n",
       "      <th>...</th>\n",
       "      <th>citoglipton</th>\n",
       "      <th>insulin</th>\n",
       "      <th>glyburide-metformin</th>\n",
       "      <th>glipizide-metformin</th>\n",
       "      <th>glimepiride-pioglitazone</th>\n",
       "      <th>metformin-rosiglitazone</th>\n",
       "      <th>metformin-pioglitazone</th>\n",
       "      <th>change</th>\n",
       "      <th>diabetesMed</th>\n",
       "      <th>readmitted</th>\n",
       "    </tr>\n",
       "  </thead>\n",
       "  <tbody>\n",
       "    <tr>\n",
       "      <th>0</th>\n",
       "      <td>2</td>\n",
       "      <td>0</td>\n",
       "      <td>6</td>\n",
       "      <td>25</td>\n",
       "      <td>1</td>\n",
       "      <td>1</td>\n",
       "      <td>41</td>\n",
       "      <td>0</td>\n",
       "      <td>1</td>\n",
       "      <td>0</td>\n",
       "      <td>...</td>\n",
       "      <td>0</td>\n",
       "      <td>0</td>\n",
       "      <td>0</td>\n",
       "      <td>0</td>\n",
       "      <td>0</td>\n",
       "      <td>0</td>\n",
       "      <td>0</td>\n",
       "      <td>0</td>\n",
       "      <td>0</td>\n",
       "      <td>NO</td>\n",
       "    </tr>\n",
       "    <tr>\n",
       "      <th>1</th>\n",
       "      <td>2</td>\n",
       "      <td>1</td>\n",
       "      <td>1</td>\n",
       "      <td>1</td>\n",
       "      <td>7</td>\n",
       "      <td>3</td>\n",
       "      <td>59</td>\n",
       "      <td>0</td>\n",
       "      <td>18</td>\n",
       "      <td>0</td>\n",
       "      <td>...</td>\n",
       "      <td>0</td>\n",
       "      <td>2</td>\n",
       "      <td>0</td>\n",
       "      <td>0</td>\n",
       "      <td>0</td>\n",
       "      <td>0</td>\n",
       "      <td>0</td>\n",
       "      <td>1</td>\n",
       "      <td>3</td>\n",
       "      <td>&gt;30</td>\n",
       "    </tr>\n",
       "    <tr>\n",
       "      <th>2</th>\n",
       "      <td>2</td>\n",
       "      <td>2</td>\n",
       "      <td>1</td>\n",
       "      <td>1</td>\n",
       "      <td>7</td>\n",
       "      <td>2</td>\n",
       "      <td>11</td>\n",
       "      <td>5</td>\n",
       "      <td>13</td>\n",
       "      <td>2</td>\n",
       "      <td>...</td>\n",
       "      <td>0</td>\n",
       "      <td>0</td>\n",
       "      <td>0</td>\n",
       "      <td>0</td>\n",
       "      <td>0</td>\n",
       "      <td>0</td>\n",
       "      <td>0</td>\n",
       "      <td>0</td>\n",
       "      <td>3</td>\n",
       "      <td>NO</td>\n",
       "    </tr>\n",
       "    <tr>\n",
       "      <th>3</th>\n",
       "      <td>1</td>\n",
       "      <td>3</td>\n",
       "      <td>1</td>\n",
       "      <td>1</td>\n",
       "      <td>7</td>\n",
       "      <td>2</td>\n",
       "      <td>44</td>\n",
       "      <td>1</td>\n",
       "      <td>16</td>\n",
       "      <td>0</td>\n",
       "      <td>...</td>\n",
       "      <td>0</td>\n",
       "      <td>2</td>\n",
       "      <td>0</td>\n",
       "      <td>0</td>\n",
       "      <td>0</td>\n",
       "      <td>0</td>\n",
       "      <td>0</td>\n",
       "      <td>1</td>\n",
       "      <td>3</td>\n",
       "      <td>NO</td>\n",
       "    </tr>\n",
       "    <tr>\n",
       "      <th>4</th>\n",
       "      <td>1</td>\n",
       "      <td>4</td>\n",
       "      <td>1</td>\n",
       "      <td>1</td>\n",
       "      <td>7</td>\n",
       "      <td>1</td>\n",
       "      <td>51</td>\n",
       "      <td>0</td>\n",
       "      <td>8</td>\n",
       "      <td>0</td>\n",
       "      <td>...</td>\n",
       "      <td>0</td>\n",
       "      <td>1</td>\n",
       "      <td>0</td>\n",
       "      <td>0</td>\n",
       "      <td>0</td>\n",
       "      <td>0</td>\n",
       "      <td>0</td>\n",
       "      <td>1</td>\n",
       "      <td>3</td>\n",
       "      <td>NO</td>\n",
       "    </tr>\n",
       "    <tr>\n",
       "      <th>...</th>\n",
       "      <td>...</td>\n",
       "      <td>...</td>\n",
       "      <td>...</td>\n",
       "      <td>...</td>\n",
       "      <td>...</td>\n",
       "      <td>...</td>\n",
       "      <td>...</td>\n",
       "      <td>...</td>\n",
       "      <td>...</td>\n",
       "      <td>...</td>\n",
       "      <td>...</td>\n",
       "      <td>...</td>\n",
       "      <td>...</td>\n",
       "      <td>...</td>\n",
       "      <td>...</td>\n",
       "      <td>...</td>\n",
       "      <td>...</td>\n",
       "      <td>...</td>\n",
       "      <td>...</td>\n",
       "      <td>...</td>\n",
       "      <td>...</td>\n",
       "    </tr>\n",
       "    <tr>\n",
       "      <th>101754</th>\n",
       "      <td>2</td>\n",
       "      <td>7</td>\n",
       "      <td>1</td>\n",
       "      <td>1</td>\n",
       "      <td>7</td>\n",
       "      <td>9</td>\n",
       "      <td>50</td>\n",
       "      <td>2</td>\n",
       "      <td>33</td>\n",
       "      <td>0</td>\n",
       "      <td>...</td>\n",
       "      <td>0</td>\n",
       "      <td>1</td>\n",
       "      <td>0</td>\n",
       "      <td>0</td>\n",
       "      <td>0</td>\n",
       "      <td>0</td>\n",
       "      <td>0</td>\n",
       "      <td>1</td>\n",
       "      <td>3</td>\n",
       "      <td>&gt;30</td>\n",
       "    </tr>\n",
       "    <tr>\n",
       "      <th>101755</th>\n",
       "      <td>2</td>\n",
       "      <td>4</td>\n",
       "      <td>1</td>\n",
       "      <td>1</td>\n",
       "      <td>7</td>\n",
       "      <td>14</td>\n",
       "      <td>73</td>\n",
       "      <td>6</td>\n",
       "      <td>26</td>\n",
       "      <td>0</td>\n",
       "      <td>...</td>\n",
       "      <td>0</td>\n",
       "      <td>2</td>\n",
       "      <td>0</td>\n",
       "      <td>0</td>\n",
       "      <td>0</td>\n",
       "      <td>0</td>\n",
       "      <td>0</td>\n",
       "      <td>1</td>\n",
       "      <td>3</td>\n",
       "      <td>&gt;30</td>\n",
       "    </tr>\n",
       "    <tr>\n",
       "      <th>101756</th>\n",
       "      <td>2</td>\n",
       "      <td>6</td>\n",
       "      <td>1</td>\n",
       "      <td>1</td>\n",
       "      <td>7</td>\n",
       "      <td>2</td>\n",
       "      <td>46</td>\n",
       "      <td>6</td>\n",
       "      <td>17</td>\n",
       "      <td>1</td>\n",
       "      <td>...</td>\n",
       "      <td>0</td>\n",
       "      <td>1</td>\n",
       "      <td>0</td>\n",
       "      <td>0</td>\n",
       "      <td>0</td>\n",
       "      <td>0</td>\n",
       "      <td>0</td>\n",
       "      <td>0</td>\n",
       "      <td>3</td>\n",
       "      <td>&gt;30</td>\n",
       "    </tr>\n",
       "    <tr>\n",
       "      <th>101758</th>\n",
       "      <td>2</td>\n",
       "      <td>8</td>\n",
       "      <td>1</td>\n",
       "      <td>1</td>\n",
       "      <td>7</td>\n",
       "      <td>5</td>\n",
       "      <td>76</td>\n",
       "      <td>1</td>\n",
       "      <td>22</td>\n",
       "      <td>0</td>\n",
       "      <td>...</td>\n",
       "      <td>0</td>\n",
       "      <td>2</td>\n",
       "      <td>0</td>\n",
       "      <td>0</td>\n",
       "      <td>0</td>\n",
       "      <td>0</td>\n",
       "      <td>0</td>\n",
       "      <td>1</td>\n",
       "      <td>3</td>\n",
       "      <td>NO</td>\n",
       "    </tr>\n",
       "    <tr>\n",
       "      <th>101765</th>\n",
       "      <td>1</td>\n",
       "      <td>7</td>\n",
       "      <td>1</td>\n",
       "      <td>1</td>\n",
       "      <td>7</td>\n",
       "      <td>6</td>\n",
       "      <td>13</td>\n",
       "      <td>3</td>\n",
       "      <td>3</td>\n",
       "      <td>0</td>\n",
       "      <td>...</td>\n",
       "      <td>0</td>\n",
       "      <td>0</td>\n",
       "      <td>0</td>\n",
       "      <td>0</td>\n",
       "      <td>0</td>\n",
       "      <td>0</td>\n",
       "      <td>0</td>\n",
       "      <td>0</td>\n",
       "      <td>0</td>\n",
       "      <td>NO</td>\n",
       "    </tr>\n",
       "  </tbody>\n",
       "</table>\n",
       "<p>71518 rows × 44 columns</p>\n",
       "</div>"
      ],
      "text/plain": [
       "        gender  age  admission_type_id  discharge_disposition_id  \\\n",
       "0            2    0                  6                        25   \n",
       "1            2    1                  1                         1   \n",
       "2            2    2                  1                         1   \n",
       "3            1    3                  1                         1   \n",
       "4            1    4                  1                         1   \n",
       "...        ...  ...                ...                       ...   \n",
       "101754       2    7                  1                         1   \n",
       "101755       2    4                  1                         1   \n",
       "101756       2    6                  1                         1   \n",
       "101758       2    8                  1                         1   \n",
       "101765       1    7                  1                         1   \n",
       "\n",
       "        admission_source_id  time_in_hospital  num_lab_procedures  \\\n",
       "0                         1                 1                  41   \n",
       "1                         7                 3                  59   \n",
       "2                         7                 2                  11   \n",
       "3                         7                 2                  44   \n",
       "4                         7                 1                  51   \n",
       "...                     ...               ...                 ...   \n",
       "101754                    7                 9                  50   \n",
       "101755                    7                14                  73   \n",
       "101756                    7                 2                  46   \n",
       "101758                    7                 5                  76   \n",
       "101765                    7                 6                  13   \n",
       "\n",
       "        num_procedures  num_medications  number_outpatient  ...  citoglipton  \\\n",
       "0                    0                1                  0  ...            0   \n",
       "1                    0               18                  0  ...            0   \n",
       "2                    5               13                  2  ...            0   \n",
       "3                    1               16                  0  ...            0   \n",
       "4                    0                8                  0  ...            0   \n",
       "...                ...              ...                ...  ...          ...   \n",
       "101754               2               33                  0  ...            0   \n",
       "101755               6               26                  0  ...            0   \n",
       "101756               6               17                  1  ...            0   \n",
       "101758               1               22                  0  ...            0   \n",
       "101765               3                3                  0  ...            0   \n",
       "\n",
       "        insulin glyburide-metformin glipizide-metformin  \\\n",
       "0             0                   0                   0   \n",
       "1             2                   0                   0   \n",
       "2             0                   0                   0   \n",
       "3             2                   0                   0   \n",
       "4             1                   0                   0   \n",
       "...         ...                 ...                 ...   \n",
       "101754        1                   0                   0   \n",
       "101755        2                   0                   0   \n",
       "101756        1                   0                   0   \n",
       "101758        2                   0                   0   \n",
       "101765        0                   0                   0   \n",
       "\n",
       "       glimepiride-pioglitazone  metformin-rosiglitazone  \\\n",
       "0                             0                        0   \n",
       "1                             0                        0   \n",
       "2                             0                        0   \n",
       "3                             0                        0   \n",
       "4                             0                        0   \n",
       "...                         ...                      ...   \n",
       "101754                        0                        0   \n",
       "101755                        0                        0   \n",
       "101756                        0                        0   \n",
       "101758                        0                        0   \n",
       "101765                        0                        0   \n",
       "\n",
       "        metformin-pioglitazone  change  diabetesMed  readmitted  \n",
       "0                            0       0            0          NO  \n",
       "1                            0       1            3         >30  \n",
       "2                            0       0            3          NO  \n",
       "3                            0       1            3          NO  \n",
       "4                            0       1            3          NO  \n",
       "...                        ...     ...          ...         ...  \n",
       "101754                       0       1            3         >30  \n",
       "101755                       0       1            3         >30  \n",
       "101756                       0       0            3         >30  \n",
       "101758                       0       1            3          NO  \n",
       "101765                       0       0            0          NO  \n",
       "\n",
       "[71518 rows x 44 columns]"
      ]
     },
     "execution_count": 321,
     "metadata": {},
     "output_type": "execute_result"
    }
   ],
   "source": [
    "df.age.replace('[0-10)',0,inplace=True)\n",
    "df.age.replace('[10-20)',1,inplace=True)\n",
    "df.age.replace('[20-30)',2,inplace=True)\n",
    "df.age.replace('[30-40)',3,inplace=True)\n",
    "df.age.replace('[40-50)',4,inplace=True)\n",
    "df.age.replace('[50-60)',5,inplace=True)\n",
    "df.age.replace('[60-70)',6,inplace=True)\n",
    "df.age.replace('[70-80)',7,inplace=True)\n",
    "df.age.replace('[80-90)',8,inplace=True)\n",
    "df.age.replace('[90-100)',9,inplace=True)\n",
    "df"
   ]
  },
  {
   "cell_type": "code",
   "execution_count": 322,
   "id": "5b63dc9c",
   "metadata": {},
   "outputs": [],
   "source": [
    "from sklearn import preprocessing\n",
    "\n",
    "le = preprocessing.LabelEncoder()\n",
    "\n",
    "df.diag_1= le.fit_transform(df.diag_1)\n",
    "df.diag_2= le.fit_transform(df.diag_2)\n",
    "df.diag_3= le.fit_transform(df.diag_3)\n",
    "\n",
    "second_test = df.copy()"
   ]
  },
  {
   "cell_type": "code",
   "execution_count": 323,
   "id": "7d6fc780",
   "metadata": {},
   "outputs": [
    {
     "data": {
      "text/html": [
       "<div>\n",
       "<style scoped>\n",
       "    .dataframe tbody tr th:only-of-type {\n",
       "        vertical-align: middle;\n",
       "    }\n",
       "\n",
       "    .dataframe tbody tr th {\n",
       "        vertical-align: top;\n",
       "    }\n",
       "\n",
       "    .dataframe thead th {\n",
       "        text-align: right;\n",
       "    }\n",
       "</style>\n",
       "<table border=\"1\" class=\"dataframe\">\n",
       "  <thead>\n",
       "    <tr style=\"text-align: right;\">\n",
       "      <th></th>\n",
       "      <th>gender</th>\n",
       "      <th>age</th>\n",
       "      <th>admission_type_id</th>\n",
       "      <th>discharge_disposition_id</th>\n",
       "      <th>admission_source_id</th>\n",
       "      <th>time_in_hospital</th>\n",
       "      <th>num_lab_procedures</th>\n",
       "      <th>num_procedures</th>\n",
       "      <th>num_medications</th>\n",
       "      <th>number_outpatient</th>\n",
       "      <th>...</th>\n",
       "      <th>citoglipton</th>\n",
       "      <th>insulin</th>\n",
       "      <th>glyburide-metformin</th>\n",
       "      <th>glipizide-metformin</th>\n",
       "      <th>glimepiride-pioglitazone</th>\n",
       "      <th>metformin-rosiglitazone</th>\n",
       "      <th>metformin-pioglitazone</th>\n",
       "      <th>change</th>\n",
       "      <th>diabetesMed</th>\n",
       "      <th>readmitted</th>\n",
       "    </tr>\n",
       "  </thead>\n",
       "  <tbody>\n",
       "    <tr>\n",
       "      <th>0</th>\n",
       "      <td>2</td>\n",
       "      <td>0</td>\n",
       "      <td>6</td>\n",
       "      <td>25</td>\n",
       "      <td>1</td>\n",
       "      <td>1</td>\n",
       "      <td>41</td>\n",
       "      <td>0</td>\n",
       "      <td>1</td>\n",
       "      <td>0</td>\n",
       "      <td>...</td>\n",
       "      <td>0</td>\n",
       "      <td>0</td>\n",
       "      <td>0</td>\n",
       "      <td>0</td>\n",
       "      <td>0</td>\n",
       "      <td>0</td>\n",
       "      <td>0</td>\n",
       "      <td>0</td>\n",
       "      <td>0</td>\n",
       "      <td>NO</td>\n",
       "    </tr>\n",
       "    <tr>\n",
       "      <th>1</th>\n",
       "      <td>2</td>\n",
       "      <td>1</td>\n",
       "      <td>1</td>\n",
       "      <td>1</td>\n",
       "      <td>7</td>\n",
       "      <td>3</td>\n",
       "      <td>59</td>\n",
       "      <td>0</td>\n",
       "      <td>18</td>\n",
       "      <td>0</td>\n",
       "      <td>...</td>\n",
       "      <td>0</td>\n",
       "      <td>2</td>\n",
       "      <td>0</td>\n",
       "      <td>0</td>\n",
       "      <td>0</td>\n",
       "      <td>0</td>\n",
       "      <td>0</td>\n",
       "      <td>1</td>\n",
       "      <td>3</td>\n",
       "      <td>&gt;30</td>\n",
       "    </tr>\n",
       "    <tr>\n",
       "      <th>2</th>\n",
       "      <td>2</td>\n",
       "      <td>2</td>\n",
       "      <td>1</td>\n",
       "      <td>1</td>\n",
       "      <td>7</td>\n",
       "      <td>2</td>\n",
       "      <td>11</td>\n",
       "      <td>5</td>\n",
       "      <td>13</td>\n",
       "      <td>2</td>\n",
       "      <td>...</td>\n",
       "      <td>0</td>\n",
       "      <td>0</td>\n",
       "      <td>0</td>\n",
       "      <td>0</td>\n",
       "      <td>0</td>\n",
       "      <td>0</td>\n",
       "      <td>0</td>\n",
       "      <td>0</td>\n",
       "      <td>3</td>\n",
       "      <td>NO</td>\n",
       "    </tr>\n",
       "    <tr>\n",
       "      <th>3</th>\n",
       "      <td>1</td>\n",
       "      <td>3</td>\n",
       "      <td>1</td>\n",
       "      <td>1</td>\n",
       "      <td>7</td>\n",
       "      <td>2</td>\n",
       "      <td>44</td>\n",
       "      <td>1</td>\n",
       "      <td>16</td>\n",
       "      <td>0</td>\n",
       "      <td>...</td>\n",
       "      <td>0</td>\n",
       "      <td>2</td>\n",
       "      <td>0</td>\n",
       "      <td>0</td>\n",
       "      <td>0</td>\n",
       "      <td>0</td>\n",
       "      <td>0</td>\n",
       "      <td>1</td>\n",
       "      <td>3</td>\n",
       "      <td>NO</td>\n",
       "    </tr>\n",
       "    <tr>\n",
       "      <th>4</th>\n",
       "      <td>1</td>\n",
       "      <td>4</td>\n",
       "      <td>1</td>\n",
       "      <td>1</td>\n",
       "      <td>7</td>\n",
       "      <td>1</td>\n",
       "      <td>51</td>\n",
       "      <td>0</td>\n",
       "      <td>8</td>\n",
       "      <td>0</td>\n",
       "      <td>...</td>\n",
       "      <td>0</td>\n",
       "      <td>1</td>\n",
       "      <td>0</td>\n",
       "      <td>0</td>\n",
       "      <td>0</td>\n",
       "      <td>0</td>\n",
       "      <td>0</td>\n",
       "      <td>1</td>\n",
       "      <td>3</td>\n",
       "      <td>NO</td>\n",
       "    </tr>\n",
       "    <tr>\n",
       "      <th>...</th>\n",
       "      <td>...</td>\n",
       "      <td>...</td>\n",
       "      <td>...</td>\n",
       "      <td>...</td>\n",
       "      <td>...</td>\n",
       "      <td>...</td>\n",
       "      <td>...</td>\n",
       "      <td>...</td>\n",
       "      <td>...</td>\n",
       "      <td>...</td>\n",
       "      <td>...</td>\n",
       "      <td>...</td>\n",
       "      <td>...</td>\n",
       "      <td>...</td>\n",
       "      <td>...</td>\n",
       "      <td>...</td>\n",
       "      <td>...</td>\n",
       "      <td>...</td>\n",
       "      <td>...</td>\n",
       "      <td>...</td>\n",
       "      <td>...</td>\n",
       "    </tr>\n",
       "    <tr>\n",
       "      <th>101754</th>\n",
       "      <td>2</td>\n",
       "      <td>7</td>\n",
       "      <td>1</td>\n",
       "      <td>1</td>\n",
       "      <td>7</td>\n",
       "      <td>9</td>\n",
       "      <td>50</td>\n",
       "      <td>2</td>\n",
       "      <td>33</td>\n",
       "      <td>0</td>\n",
       "      <td>...</td>\n",
       "      <td>0</td>\n",
       "      <td>1</td>\n",
       "      <td>0</td>\n",
       "      <td>0</td>\n",
       "      <td>0</td>\n",
       "      <td>0</td>\n",
       "      <td>0</td>\n",
       "      <td>1</td>\n",
       "      <td>3</td>\n",
       "      <td>&gt;30</td>\n",
       "    </tr>\n",
       "    <tr>\n",
       "      <th>101755</th>\n",
       "      <td>2</td>\n",
       "      <td>4</td>\n",
       "      <td>1</td>\n",
       "      <td>1</td>\n",
       "      <td>7</td>\n",
       "      <td>14</td>\n",
       "      <td>73</td>\n",
       "      <td>6</td>\n",
       "      <td>26</td>\n",
       "      <td>0</td>\n",
       "      <td>...</td>\n",
       "      <td>0</td>\n",
       "      <td>2</td>\n",
       "      <td>0</td>\n",
       "      <td>0</td>\n",
       "      <td>0</td>\n",
       "      <td>0</td>\n",
       "      <td>0</td>\n",
       "      <td>1</td>\n",
       "      <td>3</td>\n",
       "      <td>&gt;30</td>\n",
       "    </tr>\n",
       "    <tr>\n",
       "      <th>101756</th>\n",
       "      <td>2</td>\n",
       "      <td>6</td>\n",
       "      <td>1</td>\n",
       "      <td>1</td>\n",
       "      <td>7</td>\n",
       "      <td>2</td>\n",
       "      <td>46</td>\n",
       "      <td>6</td>\n",
       "      <td>17</td>\n",
       "      <td>1</td>\n",
       "      <td>...</td>\n",
       "      <td>0</td>\n",
       "      <td>1</td>\n",
       "      <td>0</td>\n",
       "      <td>0</td>\n",
       "      <td>0</td>\n",
       "      <td>0</td>\n",
       "      <td>0</td>\n",
       "      <td>0</td>\n",
       "      <td>3</td>\n",
       "      <td>&gt;30</td>\n",
       "    </tr>\n",
       "    <tr>\n",
       "      <th>101758</th>\n",
       "      <td>2</td>\n",
       "      <td>8</td>\n",
       "      <td>1</td>\n",
       "      <td>1</td>\n",
       "      <td>7</td>\n",
       "      <td>5</td>\n",
       "      <td>76</td>\n",
       "      <td>1</td>\n",
       "      <td>22</td>\n",
       "      <td>0</td>\n",
       "      <td>...</td>\n",
       "      <td>0</td>\n",
       "      <td>2</td>\n",
       "      <td>0</td>\n",
       "      <td>0</td>\n",
       "      <td>0</td>\n",
       "      <td>0</td>\n",
       "      <td>0</td>\n",
       "      <td>1</td>\n",
       "      <td>3</td>\n",
       "      <td>NO</td>\n",
       "    </tr>\n",
       "    <tr>\n",
       "      <th>101765</th>\n",
       "      <td>1</td>\n",
       "      <td>7</td>\n",
       "      <td>1</td>\n",
       "      <td>1</td>\n",
       "      <td>7</td>\n",
       "      <td>6</td>\n",
       "      <td>13</td>\n",
       "      <td>3</td>\n",
       "      <td>3</td>\n",
       "      <td>0</td>\n",
       "      <td>...</td>\n",
       "      <td>0</td>\n",
       "      <td>0</td>\n",
       "      <td>0</td>\n",
       "      <td>0</td>\n",
       "      <td>0</td>\n",
       "      <td>0</td>\n",
       "      <td>0</td>\n",
       "      <td>0</td>\n",
       "      <td>0</td>\n",
       "      <td>NO</td>\n",
       "    </tr>\n",
       "  </tbody>\n",
       "</table>\n",
       "<p>71518 rows × 44 columns</p>\n",
       "</div>"
      ],
      "text/plain": [
       "        gender  age  admission_type_id  discharge_disposition_id  \\\n",
       "0            2    0                  6                        25   \n",
       "1            2    1                  1                         1   \n",
       "2            2    2                  1                         1   \n",
       "3            1    3                  1                         1   \n",
       "4            1    4                  1                         1   \n",
       "...        ...  ...                ...                       ...   \n",
       "101754       2    7                  1                         1   \n",
       "101755       2    4                  1                         1   \n",
       "101756       2    6                  1                         1   \n",
       "101758       2    8                  1                         1   \n",
       "101765       1    7                  1                         1   \n",
       "\n",
       "        admission_source_id  time_in_hospital  num_lab_procedures  \\\n",
       "0                         1                 1                  41   \n",
       "1                         7                 3                  59   \n",
       "2                         7                 2                  11   \n",
       "3                         7                 2                  44   \n",
       "4                         7                 1                  51   \n",
       "...                     ...               ...                 ...   \n",
       "101754                    7                 9                  50   \n",
       "101755                    7                14                  73   \n",
       "101756                    7                 2                  46   \n",
       "101758                    7                 5                  76   \n",
       "101765                    7                 6                  13   \n",
       "\n",
       "        num_procedures  num_medications  number_outpatient  ...  citoglipton  \\\n",
       "0                    0                1                  0  ...            0   \n",
       "1                    0               18                  0  ...            0   \n",
       "2                    5               13                  2  ...            0   \n",
       "3                    1               16                  0  ...            0   \n",
       "4                    0                8                  0  ...            0   \n",
       "...                ...              ...                ...  ...          ...   \n",
       "101754               2               33                  0  ...            0   \n",
       "101755               6               26                  0  ...            0   \n",
       "101756               6               17                  1  ...            0   \n",
       "101758               1               22                  0  ...            0   \n",
       "101765               3                3                  0  ...            0   \n",
       "\n",
       "        insulin  glyburide-metformin  glipizide-metformin  \\\n",
       "0             0                    0                    0   \n",
       "1             2                    0                    0   \n",
       "2             0                    0                    0   \n",
       "3             2                    0                    0   \n",
       "4             1                    0                    0   \n",
       "...         ...                  ...                  ...   \n",
       "101754        1                    0                    0   \n",
       "101755        2                    0                    0   \n",
       "101756        1                    0                    0   \n",
       "101758        2                    0                    0   \n",
       "101765        0                    0                    0   \n",
       "\n",
       "        glimepiride-pioglitazone  metformin-rosiglitazone  \\\n",
       "0                              0                        0   \n",
       "1                              0                        0   \n",
       "2                              0                        0   \n",
       "3                              0                        0   \n",
       "4                              0                        0   \n",
       "...                          ...                      ...   \n",
       "101754                         0                        0   \n",
       "101755                         0                        0   \n",
       "101756                         0                        0   \n",
       "101758                         0                        0   \n",
       "101765                         0                        0   \n",
       "\n",
       "        metformin-pioglitazone  change  diabetesMed  readmitted  \n",
       "0                            0       0            0          NO  \n",
       "1                            0       1            3         >30  \n",
       "2                            0       0            3          NO  \n",
       "3                            0       1            3          NO  \n",
       "4                            0       1            3          NO  \n",
       "...                        ...     ...          ...         ...  \n",
       "101754                       0       1            3         >30  \n",
       "101755                       0       1            3         >30  \n",
       "101756                       0       0            3         >30  \n",
       "101758                       0       1            3          NO  \n",
       "101765                       0       0            0          NO  \n",
       "\n",
       "[71518 rows x 44 columns]"
      ]
     },
     "execution_count": 323,
     "metadata": {},
     "output_type": "execute_result"
    }
   ],
   "source": [
    "df['readmitted'].replace('NO',0,inplace = True)\n",
    "df['readmitted'].replace('<30',1,inplace= True)\n",
    "df['readmitted'].replace('>30',2,inplace=True)\n",
    "\n",
    "second_test"
   ]
  },
  {
   "cell_type": "markdown",
   "id": "379b7574",
   "metadata": {},
   "source": [
    "# Apply the Random Forest Model with help in understanding the process with \n",
    "https://www.datacamp.com/community/tutorials/random-forests-classifier-python"
   ]
  },
  {
   "cell_type": "code",
   "execution_count": 324,
   "id": "7ceb7398",
   "metadata": {},
   "outputs": [],
   "source": [
    "from sklearn.model_selection import train_test_split\n",
    "\n",
    "X=df[['gender','age', 'discharge_disposition_id', 'time_in_hospital','num_lab_procedures','num_medications','number_outpatient',\n",
    "     'number_emergency','number_inpatient','number_diagnoses','max_glu_serum','A1Cresult','diabetesMed','change','metformin','repaglinide'\n",
    "     ,'nateglinide','chlorpropamide','glimepiride','acetohexamide','glipizide','glyburide','tolbutamide','pioglitazone','rosiglitazone'\n",
    "     ,'acarbose','miglitol','troglitazone','tolazamide','examide','citoglipton','insulin','glyburide-metformin','glipizide-metformin'\n",
    "     ,'glimepiride-pioglitazone','metformin-rosiglitazone','metformin-pioglitazone','admission_source_id','admission_type_id','diag_1',\n",
    "     'diag_2','diag_3']] \n",
    "\n",
    "y=df['readmitted']  \n",
    "\n",
    "# Split dataset into training set and test set\n",
    "X_train, X_test, y_train, y_test = train_test_split(X, y, test_size=0.3)"
   ]
  },
  {
   "cell_type": "code",
   "execution_count": 325,
   "id": "dd38d553",
   "metadata": {},
   "outputs": [],
   "source": [
    "from sklearn.ensemble import RandomForestClassifier\n",
    "\n",
    "clf=RandomForestClassifier(n_estimators=200)\n",
    "\n",
    "clf.fit(X_train,y_train)\n",
    "\n",
    "y_pred=clf.predict(X_test)"
   ]
  },
  {
   "cell_type": "markdown",
   "id": "c5a0af98",
   "metadata": {},
   "source": [
    "# See accuracy of model"
   ]
  },
  {
   "cell_type": "code",
   "execution_count": 327,
   "id": "84e681f1",
   "metadata": {},
   "outputs": [
    {
     "name": "stdout",
     "output_type": "stream",
     "text": [
      "                precision    recall  f1-score   support\n",
      "\n",
      "not readmitted       0.63      0.93      0.75     12896\n",
      "      <30 days       0.31      0.00      0.00      1797\n",
      "      >30 days       0.51      0.18      0.27      6763\n",
      "\n",
      "      accuracy                           0.62     21456\n",
      "     macro avg       0.48      0.37      0.34     21456\n",
      "  weighted avg       0.56      0.62      0.54     21456\n",
      "\n"
     ]
    }
   ],
   "source": [
    "from sklearn.metrics import classification_report\n",
    "\n",
    "print(classification_report(y_test, y_pred, target_names=['not readmitted','<30 days','>30 days']))"
   ]
  },
  {
   "cell_type": "code",
   "execution_count": 328,
   "id": "c2970c40",
   "metadata": {},
   "outputs": [
    {
     "data": {
      "text/plain": [
       "0         0\n",
       "1         1\n",
       "2         0\n",
       "3         0\n",
       "4         0\n",
       "         ..\n",
       "101754    1\n",
       "101755    1\n",
       "101756    1\n",
       "101758    0\n",
       "101765    0\n",
       "Name: readmitted, Length: 71518, dtype: int64"
      ]
     },
     "execution_count": 328,
     "metadata": {},
     "output_type": "execute_result"
    }
   ],
   "source": [
    "second_test['readmitted'].replace('NO',0,inplace = True)\n",
    "second_test['readmitted'].replace('<30',1,inplace= True)\n",
    "second_test['readmitted'].replace('>30',1,inplace=True)\n",
    "second_test['readmitted']"
   ]
  },
  {
   "cell_type": "code",
   "execution_count": 329,
   "id": "dfc55f28",
   "metadata": {},
   "outputs": [
    {
     "name": "stdout",
     "output_type": "stream",
     "text": [
      "                precision    recall  f1-score   support\n",
      "\n",
      "not readmitted       0.66      0.85      0.74     12973\n",
      "    readmitted       0.58      0.32      0.41      8483\n",
      "\n",
      "      accuracy                           0.64     21456\n",
      "     macro avg       0.62      0.58      0.58     21456\n",
      "  weighted avg       0.63      0.64      0.61     21456\n",
      "\n"
     ]
    }
   ],
   "source": [
    "second_test['readmitted'].replace('NO',0,inplace = True)\n",
    "second_test['readmitted'].replace('<30',1,inplace= True)\n",
    "second_test['readmitted'].replace('>30',1,inplace=True)\n",
    "\n",
    "\n",
    "X=second_test[['gender','age', 'discharge_disposition_id', 'time_in_hospital','num_lab_procedures','num_medications','number_outpatient',\n",
    "     'number_emergency','number_inpatient','number_diagnoses','max_glu_serum','A1Cresult','diabetesMed','change','metformin','repaglinide'\n",
    "     ,'nateglinide','chlorpropamide','glimepiride','acetohexamide','glipizide','glyburide','tolbutamide','pioglitazone','rosiglitazone'\n",
    "     ,'acarbose','miglitol','troglitazone','tolazamide','examide','citoglipton','insulin','glyburide-metformin','glipizide-metformin'\n",
    "     ,'glimepiride-pioglitazone','metformin-rosiglitazone','metformin-pioglitazone','admission_source_id','admission_type_id','diag_1',\n",
    "     'diag_2','diag_3']] \n",
    "\n",
    "y=second_test['readmitted']  \n",
    "\n",
    "# Split dataset into training set and test set\n",
    "X_train, X_test, y_train, y_test = train_test_split(X, y, test_size=0.3)\n",
    "\n",
    "\n",
    "clf=RandomForestClassifier(n_estimators=200)\n",
    "\n",
    "clf.fit(X_train,y_train)\n",
    "\n",
    "y_pred=clf.predict(X_test)\n",
    "\n",
    "print(classification_report(y_test, y_pred, target_names=['not readmitted','readmitted']))"
   ]
  },
  {
   "cell_type": "code",
   "execution_count": null,
   "id": "659dc8e6",
   "metadata": {},
   "outputs": [],
   "source": []
  },
  {
   "cell_type": "code",
   "execution_count": null,
   "id": "994da62a",
   "metadata": {},
   "outputs": [],
   "source": []
  },
  {
   "cell_type": "code",
   "execution_count": null,
   "id": "bf7100cf",
   "metadata": {},
   "outputs": [],
   "source": []
  },
  {
   "cell_type": "markdown",
   "id": "fdaa5ac2",
   "metadata": {},
   "source": [
    "# See what features are important"
   ]
  },
  {
   "cell_type": "code",
   "execution_count": 330,
   "id": "45f1b154",
   "metadata": {},
   "outputs": [
    {
     "data": {
      "text/plain": [
       "RandomForestClassifier(n_jobs=1)"
      ]
     },
     "execution_count": 330,
     "metadata": {},
     "output_type": "execute_result"
    }
   ],
   "source": [
    "RandomForestClassifier(bootstrap=True, class_weight=None, criterion='gini',\n",
    "            max_depth=None, max_features='auto', max_leaf_nodes=None,\n",
    "            min_impurity_decrease=0.0, min_impurity_split=None,\n",
    "            min_samples_leaf=1, min_samples_split=2,\n",
    "            min_weight_fraction_leaf=0.0, n_estimators=100, n_jobs=1,\n",
    "            oob_score=False, random_state=None, verbose=0,\n",
    "            warm_start=False)\n"
   ]
  },
  {
   "cell_type": "code",
   "execution_count": 331,
   "id": "b087dcbc",
   "metadata": {},
   "outputs": [
    {
     "data": {
      "text/plain": [
       "num_lab_procedures          0.110651\n",
       "diag_1                      0.105578\n",
       "diag_2                      0.103277\n",
       "diag_3                      0.099884\n",
       "num_medications             0.095790\n",
       "time_in_hospital            0.066620\n",
       "age                         0.053023\n",
       "number_diagnoses            0.046924\n",
       "discharge_disposition_id    0.044590\n",
       "admission_type_id           0.031383\n",
       "insulin                     0.027742\n",
       "admission_source_id         0.025684\n",
       "number_inpatient            0.022708\n",
       "gender                      0.020613\n",
       "number_outpatient           0.016740\n",
       "metformin                   0.016719\n",
       "A1Cresult                   0.015083\n",
       "glipizide                   0.013272\n",
       "glyburide                   0.012947\n",
       "change                      0.012187\n",
       "number_emergency            0.011405\n",
       "pioglitazone                0.009539\n",
       "rosiglitazone               0.008585\n",
       "glimepiride                 0.008331\n",
       "diabetesMed                 0.008306\n",
       "max_glu_serum               0.003914\n",
       "repaglinide                 0.003093\n",
       "glyburide-metformin         0.001928\n",
       "nateglinide                 0.001910\n",
       "acarbose                    0.000860\n",
       "chlorpropamide              0.000379\n",
       "tolazamide                  0.000144\n",
       "tolbutamide                 0.000071\n",
       "miglitol                    0.000051\n",
       "glipizide-metformin         0.000033\n",
       "troglitazone                0.000021\n",
       "metformin-rosiglitazone     0.000011\n",
       "metformin-pioglitazone      0.000002\n",
       "acetohexamide               0.000000\n",
       "glimepiride-pioglitazone    0.000000\n",
       "examide                     0.000000\n",
       "citoglipton                 0.000000\n",
       "dtype: float64"
      ]
     },
     "execution_count": 331,
     "metadata": {},
     "output_type": "execute_result"
    }
   ],
   "source": [
    "importance = pd.Series(clf.feature_importances_,index=df2).sort_values(ascending=False)\n",
    "importance"
   ]
  },
  {
   "cell_type": "code",
   "execution_count": 332,
   "id": "4819a933",
   "metadata": {},
   "outputs": [
    {
     "name": "stderr",
     "output_type": "stream",
     "text": [
      "No handles with labels found to put in legend.\n"
     ]
    },
    {
     "data": {
      "image/png": "[encoded data removed]",
      "text/plain": [
       "<Figure size 432x288 with 1 Axes>"
      ]
     },
     "metadata": {
      "needs_background": "light"
     },
     "output_type": "display_data"
    }
   ],
   "source": [
    "%matplotlib inline\n",
    "# Creating a bar plot\n",
    "sns.barplot(x=importance[:10], y=importance[:10].index)\n",
    "# Add lnabels to your graph\n",
    "plt.xlabel('Feature Importance Score')\n",
    "plt.ylabel('Features')\n",
    "plt.title(\"Visualizing Important Features\")\n",
    "plt.legend()\n",
    "plt.show()"
   ]
  }
 ],
 "metadata": {
  "kernelspec": {
   "display_name": "Python 3 (ipykernel)",
   "language": "python",
   "name": "python3"
  },
  "language_info": {
   "codemirror_mode": {
    "name": "ipython",
    "version": 3
   },
   "file_extension": ".py",
   "mimetype": "text/x-python",
   "name": "python",
   "nbconvert_exporter": "python",
   "pygments_lexer": "ipython3",
   "version": "3.9.6"
  }
 },
 "nbformat": 4,
 "nbformat_minor": 5
}
